import random
import csv


attributes = [['Sunny','Rainy'],
              ['Warm','Cold'],
              ['Normal','High'],
              ['Strong','Weak'],
              ['Same','Change']]
              

n = len(attributes)

a = []
print("\nGiven Data Set \n")

with open('../input/findsalgorithm/data set.csv', 'r') as csvFile:
    reader = csv.reader(csvFile)
    for row in reader:
        a.append (row)
        print(row)


print("\n The initial hypothesis: ")
hypothesis = ['0'] * n
print(hypothesis)

for i in range(0,n):
        hypothesis[i] = a[0][i];


print("\n Find S: Finding a Maximally Specific Hypothesis\n")
for i in range(0,len(a)):
    if a[i][n]=='Yes':
            for j in range(0,n):
                #If attributes is not same replace it with ?
                if a[i][j]!=hypothesis[j]:
                    hypothesis[j]='?'
                else :
                    hypothesis[j]= a[i][j] 
    print(" For Training Example No :",i , " the hypothesis is ",hypothesis)
                
print("\n The Maximally Specific Hypothesis for a given Training Examples :\n")
print(hypothesis)