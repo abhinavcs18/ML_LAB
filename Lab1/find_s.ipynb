{
  "nbformat": 4,
  "nbformat_minor": 0,
  "metadata": {
    "colab": {
      "name": "FindSAlgo.ipynb",
      "provenance": []
    },
    "kernelspec": {
      "name": "python3",
      "display_name": "Python 3"
    }
  },
  "cells": [
    {
      "cell_type": "markdown",
      "metadata": {
        "id": "HtdOLrWnnShS"
      },
      "source": [
        
      ]
    },
    {
      "cell_type": "code",
      "metadata": {
        "colab": {
          "base_uri": "https://localhost:8080/"
        },
        "id": "s6zwtcPTnain",
        "outputId": "66cebfd0-e199-4c1a-f2d9-8ff85e701bf8"
      },
      "source": [
        "from google.colab import drive\r\n",
        "drive.mount(\"/content/drive\")"
      ],
      "execution_count": 1,
      "outputs": [
        {
          "output_type": "stream",
          "text": [
            "Mounted at /content/drive\n"
          ],
          "name": "stdout"
        }
      ]
    },
    {
      "cell_type": "code",
      "metadata": {
        "colab": {
          "base_uri": "https://localhost:8080/"
        },
        "id": "ERKMPidhnz6q",
        "outputId": "8d66d8c6-be52-47f1-dd4a-f3e4b42d0528"
      },
      "source": [
        "import pandas as pd\r\n",
        "import numpy as np\r\n",
        " \r\n",
        "\r\n",
        "data = pd.read_csv(\"/content/drive/MyDrive/findsdata.csv\")\r\n",
        "print(data,\"\\n\")\r\n",
        " \r\n",
        "#array of all the attributes\r\n",
        "d = np.array(data)[:,:-1]\r\n",
        "print(\"\\n The attributes are: \",d)\r\n",
        " \r\n",
        "target = np.array(data)[:,-1]\r\n",
        "print(\"\\n The target is: \",target)\r\n",
        " \r\n",
        "def findS(c,t):\r\n",
        "    for i, val in enumerate(t):\r\n",
        "        if val == \"Yes\":\r\n",
        "            specific_hypothesis = c[i].copy()\r\n",
        "            break\r\n",
        "             \r\n",
        "    for i, val in enumerate(c):\r\n",
        "        if t[i] == \"Yes\":\r\n",
        "            for x in range(len(specific_hypothesis)):\r\n",
        "                if val[x] != specific_hypothesis[x]:\r\n",
        "                    specific_hypothesis[x] = '?'\r\n",
        "                else:\r\n",
        "                    pass\r\n",
        "                 \r\n",
        "    return specific_hypothesis\r\n",
        " \r\n",
        "print(\"\\n The final hypothesis is:\",findS(d,target))"
      ],
      "execution_count": 7,
      "outputs": [
        {
          "output_type": "stream",
          "text": [
            "  Weather Temperature Humidity    Wind Goes\n",
            "0   Sunny        Warm     Mild  Strong  Yes\n",
            "1   Rainy        Cold     Mild  Normal   No\n",
            "2   Sunny    Moderate    Nomal  Normal  Yes\n",
            "3   Sunny        Cold     High  Strong  Yes \n",
            "\n",
            "\n",
            " The attributes are:  [['Sunny' 'Warm' 'Mild' 'Strong']\n",
            " ['Rainy' 'Cold' 'Mild' 'Normal']\n",
            " ['Sunny' 'Moderate' 'Nomal' 'Normal']\n",
            " ['Sunny' 'Cold' 'High' 'Strong']]\n",
            "\n",
            " The target is:  ['Yes' 'No' 'Yes' 'Yes']\n",
            "\n",
            " The final hypothesis is: ['Sunny' '?' '?' '?']\n"
          ],
          "name": "stdout"
        }
      ]
    }
  ]
}
